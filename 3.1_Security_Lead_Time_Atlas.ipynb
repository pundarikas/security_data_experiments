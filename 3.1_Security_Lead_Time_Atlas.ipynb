{
 "cells": [
  {
   "cell_type": "code",
   "execution_count": null,
   "id": "e058c6cd-0130-45b1-8831-0fa18bbf3fae",
   "metadata": {},
   "outputs": [],
   "source": [
    "# Read CSV , Calculate Lead Time , Create Lead Time Labels and create Nomic Atlas Map"
   ]
  },
  {
   "cell_type": "code",
   "execution_count": 78,
   "id": "3ab8622c-c2b6-482e-802b-03b0d4dbabbc",
   "metadata": {
    "tags": []
   },
   "outputs": [],
   "source": [
    "import pandas as pd\n",
    "import dask.dataframe as dd\n",
    "import re\n",
    "from string import punctuation\n",
    "from datetime import datetime\n",
    "from nomic import atlas\n",
    "import nomic\n",
    "import random\n",
    "import math"
   ]
  },
  {
   "cell_type": "code",
   "execution_count": 79,
   "id": "0d4c8d3f-b43f-40dd-9ca0-d47b4bc89e59",
   "metadata": {
    "tags": []
   },
   "outputs": [],
   "source": [
    "def remove_nan_rows_by_column(records, column_name):\n",
    "    # Find the index of the specified column by name\n",
    "    column_index = None\n",
    "    if records:\n",
    "        headers = records[0]\n",
    "        if column_name in headers:\n",
    "            column_index = headers.index(column_name)\n",
    "\n",
    "    if column_index is None:\n",
    "        raise ValueError(f\"Column '{column_name}' not found in the records.\")\n",
    "\n",
    "    # Filter out rows where the column value is NaN\n",
    "    return [row for row in records if not math.isnan(row[column_index])]\n"
   ]
  },
  {
   "cell_type": "code",
   "execution_count": 80,
   "id": "02df29e6-d3af-4b64-a928-942aa20ec85f",
   "metadata": {
    "tags": []
   },
   "outputs": [],
   "source": [
    "# Function to get difference between two dates\n",
    "def date_difference(date_str1, date_str2):\n",
    "    # Convert the date strings to datetime objects\n",
    "    date1 = datetime.strptime(date_str1, \"%Y-%m-%d %H:%M:%S\")\n",
    "    date2 = datetime.strptime(date_str2, \"%Y-%m-%d %H:%M:%S\")\n",
    "\n",
    "    # Calculate the time difference\n",
    "    time_difference = date2 - date1\n",
    "\n",
    "    return time_difference"
   ]
  },
  {
   "cell_type": "code",
   "execution_count": 81,
   "id": "d086140e-85d5-4f92-989f-81cb7fd8efee",
   "metadata": {
    "tags": []
   },
   "outputs": [],
   "source": [
    "# Funtion to format timedelta to hour.minutes format\n",
    "def format_to_hh_mm(timedelta_obj):\n",
    "    # Calculating total seconds\n",
    "    total_seconds = timedelta_obj.total_seconds()\n",
    "\n",
    "    # Converting total seconds to hours and minutes\n",
    "    hours = total_seconds // 3600\n",
    "    minutes = (total_seconds % 3600) // 60\n",
    "\n",
    "    # Combining hours and minutes into a float\n",
    "    hours_and_minutes = hours + (minutes / 60)\n",
    "\n",
    "    return round(hours_and_minutes, 2)"
   ]
  },
  {
   "cell_type": "code",
   "execution_count": 51,
   "id": "6fc65470-5ef2-408c-bd73-467126789002",
   "metadata": {
    "tags": []
   },
   "outputs": [],
   "source": [
    "all_data = pd.read_csv(\"Final_security_dataset.csv\" , index_col=0)"
   ]
  },
  {
   "cell_type": "code",
   "execution_count": 82,
   "id": "e4ce61c1-9e93-44a2-9c25-127e98d17116",
   "metadata": {
    "tags": []
   },
   "outputs": [
    {
     "data": {
      "text/plain": [
       "27828"
      ]
     },
     "execution_count": 82,
     "metadata": {},
     "output_type": "execute_result"
    }
   ],
   "source": [
    "data = all_data[:50000]\n",
    "#Get only records which has duplicate title\n",
    "duplicates = data[data.duplicated('title', keep=False)]\n",
    "len(duplicates)"
   ]
  },
  {
   "cell_type": "code",
   "execution_count": 83,
   "id": "547b68dc-36f3-497d-8557-4731a7c5ff83",
   "metadata": {
    "tags": []
   },
   "outputs": [],
   "source": [
    "def generate_lead_time(matching_rows):\n",
    "    \n",
    "        closed_ticket = matching_rows[matching_rows['action'] == 'closed']\n",
    "        open_ticket = matching_rows[matching_rows['action'] == 'opened']\n",
    "        \n",
    "        if not closed_ticket.empty and not open_ticket.empty:\n",
    "        #and closed_ticket['repo_url'].values[0] == open_ticket['repo_url'].values[0]:\n",
    "        \n",
    "            close_time = closed_ticket['created_at'].values[0]\n",
    "            open_time = open_ticket['created_at'].values[0]\n",
    "           \n",
    "            time_diff = date_difference(close_time,open_time)\n",
    "            lead_time = format_to_hh_mm(time_diff)\n",
    "\n",
    "            return lead_time\n",
    "        else:\n",
    "            return 0 # Put N/A (Not Available) if one of open_ticket or close_ticket is empty"
   ]
  },
  {
   "cell_type": "code",
   "execution_count": 84,
   "id": "b911ed98-624e-4e39-b157-bf3502d1c74c",
   "metadata": {
    "tags": []
   },
   "outputs": [],
   "source": [
    "visited_titles = set()\n",
    "\n",
    "duplicates_with_lead_time = duplicates.copy()\n",
    "\n",
    "# Fills duplicates_with_lead_time with same title sharing same repo\n",
    "for i in range(len(duplicates)):\n",
    "    row_title = duplicates.iloc[i]['title']   \n",
    "        \n",
    "    if row_title not in visited_titles:\n",
    "        # Process the duplicate row\n",
    "        \n",
    "        matching_titles = duplicates[duplicates['title'] == row_title]     \n",
    "        \n",
    "        matching_titles_with_matching_repo = matching_titles[matching_titles.duplicated('repo', keep=False)]\n",
    "        \n",
    "        # this means there are both open and close record for same title and same repo\n",
    "        if len(matching_titles_with_matching_repo) > 0:\n",
    "        \n",
    "            lead_time = generate_lead_time(matching_titles_with_matching_repo)\n",
    "\n",
    "            condition = (duplicates['title'] == row_title) & (duplicates['repo'] ==  matching_titles_with_matching_repo['repo'].values[0])\n",
    "\n",
    "            duplicates_with_lead_time.loc[condition, 'lead_time'] = abs(lead_time)\n",
    "      \n",
    "            \n",
    "        # Mark the row as visited\n",
    "        visited_titles.add(row_title)"
   ]
  },
  {
   "cell_type": "code",
   "execution_count": 89,
   "id": "2b235fca-02fc-49cf-bdfc-c2d657b971a4",
   "metadata": {
    "tags": []
   },
   "outputs": [
    {
     "data": {
      "text/plain": [
       "14021"
      ]
     },
     "execution_count": 89,
     "metadata": {},
     "output_type": "execute_result"
    }
   ],
   "source": [
    "#remove records with lead_time NaN\n",
    "filtered_duplicates = duplicates_with_lead_time.dropna(subset=['lead_time'])\n",
    "\n",
    "len(filtered_duplicates)"
   ]
  },
  {
   "cell_type": "code",
   "execution_count": 90,
   "id": "5b0a4ea4-82ce-44fa-8440-09c7a5810d0b",
   "metadata": {
    "tags": []
   },
   "outputs": [
    {
     "data": {
      "text/plain": [
       "11242"
      ]
     },
     "execution_count": 90,
     "metadata": {},
     "output_type": "execute_result"
    }
   ],
   "source": [
    "#remove records with lead_time 0.00\n",
    "\n",
    "filtered_duplicates = filtered_duplicates[filtered_duplicates['lead_time'] != 0.00]\n",
    "len(filtered_duplicates)"
   ]
  },
  {
   "cell_type": "code",
   "execution_count": 91,
   "id": "9b771bf1-b7f1-46d5-a24c-f3d379a07c1e",
   "metadata": {
    "tags": []
   },
   "outputs": [
    {
     "data": {
      "text/plain": [
       "11242"
      ]
     },
     "execution_count": 91,
     "metadata": {},
     "output_type": "execute_result"
    }
   ],
   "source": [
    "sorted_duplicates = filtered_duplicates.sort_values('lead_time').reset_index(drop=True)\n",
    "\n",
    "len(sorted_duplicates)"
   ]
  },
  {
   "cell_type": "code",
   "execution_count": 92,
   "id": "f82683d7-858b-4f51-9d6a-5b2f5c094687",
   "metadata": {
    "tags": []
   },
   "outputs": [],
   "source": [
    "total_rows = len(sorted_records)\n",
    "first_index = total_rows // 4\n",
    "second_index = first_index * 2\n",
    "third_index = first_index * 3\n"
   ]
  },
  {
   "cell_type": "code",
   "execution_count": 93,
   "id": "ad75b296-bc12-433e-90d2-1278d910bdb7",
   "metadata": {
    "tags": []
   },
   "outputs": [],
   "source": [
    "# Category A = Lowest quarter of lead time ... Category D = Highest quarter of lead time\n",
    "sorted_records['Category'] = 'Longest_Lead_Time'  # Default to Category D\n",
    "sorted_records.loc[:first_index, 'Category'] = 'Shortest_Lead_Time'\n",
    "sorted_records.loc[first_index:second_index, 'Category'] = 'Moderate_Short_Lead_Time'\n",
    "sorted_records.loc[second_index:third_index, 'Category'] = 'Moderate_Long_Lead_Time'"
   ]
  },
  {
   "cell_type": "code",
   "execution_count": 94,
   "id": "f0f85c38-2210-4f8e-88bc-ac437e567ea2",
   "metadata": {
    "tags": []
   },
   "outputs": [
    {
     "data": {
      "text/html": [
       "<div>\n",
       "<style scoped>\n",
       "    .dataframe tbody tr th:only-of-type {\n",
       "        vertical-align: middle;\n",
       "    }\n",
       "\n",
       "    .dataframe tbody tr th {\n",
       "        vertical-align: top;\n",
       "    }\n",
       "\n",
       "    .dataframe thead th {\n",
       "        text-align: right;\n",
       "    }\n",
       "</style>\n",
       "<table border=\"1\" class=\"dataframe\">\n",
       "  <thead>\n",
       "    <tr style=\"text-align: right;\">\n",
       "      <th></th>\n",
       "      <th>id</th>\n",
       "      <th>type</th>\n",
       "      <th>created_at</th>\n",
       "      <th>repo</th>\n",
       "      <th>repo_url</th>\n",
       "      <th>action</th>\n",
       "      <th>title</th>\n",
       "      <th>labels</th>\n",
       "      <th>body</th>\n",
       "      <th>index</th>\n",
       "      <th>lead_time</th>\n",
       "      <th>Category</th>\n",
       "      <th>body_text</th>\n",
       "      <th>text</th>\n",
       "    </tr>\n",
       "  </thead>\n",
       "  <tbody>\n",
       "    <tr>\n",
       "      <th>0</th>\n",
       "      <td>2.490469e+09</td>\n",
       "      <td>IssuesEvent</td>\n",
       "      <td>2015-01-02 15:34:19</td>\n",
       "      <td>izuzero/xe-module-ajaxboard</td>\n",
       "      <td>https://api.github.com/repos/izuzero/xe-module...</td>\n",
       "      <td>opened</td>\n",
       "      <td>SSE Listener session stack 제한</td>\n",
       "      <td>type/enhancement type/security</td>\n",
       "      <td>SSE Listener session은 현재 만료일을 30분으로 지정해두고 있으나,...</td>\n",
       "      <td>True</td>\n",
       "      <td>0.0</td>\n",
       "      <td>Shortest_Lead_Time</td>\n",
       "      <td>SSE Listener session은 현재 만료일을 30분으로 지정해두고 있으나,...</td>\n",
       "      <td>sse listener session은 현재 만료일을 30분으로 지정해두고 있으나 ...</td>\n",
       "    </tr>\n",
       "    <tr>\n",
       "      <th>1</th>\n",
       "      <td>8.665837e+09</td>\n",
       "      <td>IssuesEvent</td>\n",
       "      <td>2018-11-29 01:08:20</td>\n",
       "      <td>ekirmayer/ExerciseFiles</td>\n",
       "      <td>https://api.github.com/repos/ekirmayer/Exercis...</td>\n",
       "      <td>opened</td>\n",
       "      <td>CVE-2018-3774 High Severity Vulnerability dete...</td>\n",
       "      <td>security vulnerability</td>\n",
       "      <td>## CVE-2018-3774 - High Severity Vulnerability...</td>\n",
       "      <td>True</td>\n",
       "      <td>0.0</td>\n",
       "      <td>Shortest_Lead_Time</td>\n",
       "      <td>## CVE-2018-3774 - High Severity Vulnerability...</td>\n",
       "      <td>cve20183774 high severity vulnerability detail...</td>\n",
       "    </tr>\n",
       "    <tr>\n",
       "      <th>2</th>\n",
       "      <td>8.665836e+09</td>\n",
       "      <td>IssuesEvent</td>\n",
       "      <td>2018-11-29 01:07:59</td>\n",
       "      <td>ekirmayer/ExerciseFiles</td>\n",
       "      <td>https://api.github.com/repos/ekirmayer/Exercis...</td>\n",
       "      <td>opened</td>\n",
       "      <td>CVE-2016-1000340 High Severity Vulnerability d...</td>\n",
       "      <td>security vulnerability</td>\n",
       "      <td>## CVE-2016-1000340 - High Severity Vulnerabil...</td>\n",
       "      <td>True</td>\n",
       "      <td>0.0</td>\n",
       "      <td>Shortest_Lead_Time</td>\n",
       "      <td>## CVE-2016-1000340 - High Severity Vulnerabil...</td>\n",
       "      <td>cve20161000340 high severity vulnerability det...</td>\n",
       "    </tr>\n",
       "    <tr>\n",
       "      <th>3</th>\n",
       "      <td>8.665832e+09</td>\n",
       "      <td>IssuesEvent</td>\n",
       "      <td>2018-11-29 01:06:53</td>\n",
       "      <td>ekirmayer/ExerciseFiles</td>\n",
       "      <td>https://api.github.com/repos/ekirmayer/Exercis...</td>\n",
       "      <td>opened</td>\n",
       "      <td>CVE-2018-11697 High Severity Vulnerability det...</td>\n",
       "      <td>security vulnerability</td>\n",
       "      <td>## CVE-2018-11697 - High Severity Vulnerabilit...</td>\n",
       "      <td>True</td>\n",
       "      <td>0.0</td>\n",
       "      <td>Shortest_Lead_Time</td>\n",
       "      <td>## CVE-2018-11697 - High Severity Vulnerabilit...</td>\n",
       "      <td>cve201811697 high severity vulnerability detai...</td>\n",
       "    </tr>\n",
       "    <tr>\n",
       "      <th>4</th>\n",
       "      <td>8.665831e+09</td>\n",
       "      <td>IssuesEvent</td>\n",
       "      <td>2018-11-29 01:06:38</td>\n",
       "      <td>ekirmayer/ExerciseFiles</td>\n",
       "      <td>https://api.github.com/repos/ekirmayer/Exercis...</td>\n",
       "      <td>opened</td>\n",
       "      <td>CVE-2016-10531 Medium Severity Vulnerability d...</td>\n",
       "      <td>security vulnerability</td>\n",
       "      <td>## CVE-2016-10531 - Medium Severity Vulnerabil...</td>\n",
       "      <td>True</td>\n",
       "      <td>0.0</td>\n",
       "      <td>Shortest_Lead_Time</td>\n",
       "      <td>## CVE-2016-10531 - Medium Severity Vulnerabil...</td>\n",
       "      <td>cve201610531 medium severity vulnerability det...</td>\n",
       "    </tr>\n",
       "    <tr>\n",
       "      <th>5</th>\n",
       "      <td>8.665824e+09</td>\n",
       "      <td>IssuesEvent</td>\n",
       "      <td>2018-11-29 01:04:46</td>\n",
       "      <td>ekirmayer/ExerciseFiles</td>\n",
       "      <td>https://api.github.com/repos/ekirmayer/Exercis...</td>\n",
       "      <td>opened</td>\n",
       "      <td>WS-2015-0024 High Severity Vulnerability detec...</td>\n",
       "      <td>security vulnerability</td>\n",
       "      <td>## WS-2015-0024 - High Severity Vulnerability\\...</td>\n",
       "      <td>True</td>\n",
       "      <td>0.0</td>\n",
       "      <td>Shortest_Lead_Time</td>\n",
       "      <td>## WS-2015-0024 - High Severity Vulnerability\\...</td>\n",
       "      <td>ws20150024 high severity vulnerability details...</td>\n",
       "    </tr>\n",
       "    <tr>\n",
       "      <th>6</th>\n",
       "      <td>8.665816e+09</td>\n",
       "      <td>IssuesEvent</td>\n",
       "      <td>2018-11-29 01:02:38</td>\n",
       "      <td>ekirmayer/ExerciseFiles</td>\n",
       "      <td>https://api.github.com/repos/ekirmayer/Exercis...</td>\n",
       "      <td>opened</td>\n",
       "      <td>CVE-2018-3774 High Severity Vulnerability dete...</td>\n",
       "      <td>security vulnerability</td>\n",
       "      <td>## CVE-2018-3774 - High Severity Vulnerability...</td>\n",
       "      <td>True</td>\n",
       "      <td>0.0</td>\n",
       "      <td>Shortest_Lead_Time</td>\n",
       "      <td>## CVE-2018-3774 - High Severity Vulnerability...</td>\n",
       "      <td>cve20183774 high severity vulnerability detail...</td>\n",
       "    </tr>\n",
       "    <tr>\n",
       "      <th>7</th>\n",
       "      <td>8.665837e+09</td>\n",
       "      <td>IssuesEvent</td>\n",
       "      <td>2018-11-29 01:08:24</td>\n",
       "      <td>ekirmayer/ExerciseFiles</td>\n",
       "      <td>https://api.github.com/repos/ekirmayer/Exercis...</td>\n",
       "      <td>opened</td>\n",
       "      <td>CVE-2017-12597 High Severity Vulnerability det...</td>\n",
       "      <td>security vulnerability</td>\n",
       "      <td>## CVE-2017-12597 - High Severity Vulnerabilit...</td>\n",
       "      <td>True</td>\n",
       "      <td>0.0</td>\n",
       "      <td>Shortest_Lead_Time</td>\n",
       "      <td>## CVE-2017-12597 - High Severity Vulnerabilit...</td>\n",
       "      <td>cve201712597 high severity vulnerability detai...</td>\n",
       "    </tr>\n",
       "    <tr>\n",
       "      <th>8</th>\n",
       "      <td>8.665813e+09</td>\n",
       "      <td>IssuesEvent</td>\n",
       "      <td>2018-11-29 01:01:37</td>\n",
       "      <td>ekirmayer/ExerciseFiles</td>\n",
       "      <td>https://api.github.com/repos/ekirmayer/Exercis...</td>\n",
       "      <td>opened</td>\n",
       "      <td>CVE-2016-1000340 High Severity Vulnerability d...</td>\n",
       "      <td>security vulnerability</td>\n",
       "      <td>## CVE-2016-1000340 - High Severity Vulnerabil...</td>\n",
       "      <td>True</td>\n",
       "      <td>0.0</td>\n",
       "      <td>Shortest_Lead_Time</td>\n",
       "      <td>## CVE-2016-1000340 - High Severity Vulnerabil...</td>\n",
       "      <td>cve20161000340 high severity vulnerability det...</td>\n",
       "    </tr>\n",
       "    <tr>\n",
       "      <th>9</th>\n",
       "      <td>8.658768e+09</td>\n",
       "      <td>IssuesEvent</td>\n",
       "      <td>2018-11-28 02:34:23</td>\n",
       "      <td>ekirmayer/ExerciseFiles</td>\n",
       "      <td>https://api.github.com/repos/ekirmayer/Exercis...</td>\n",
       "      <td>opened</td>\n",
       "      <td>CVE-2018-11039 Medium Severity Vulnerability d...</td>\n",
       "      <td>security vulnerability</td>\n",
       "      <td>## CVE-2018-11039 - Medium Severity Vulnerabil...</td>\n",
       "      <td>True</td>\n",
       "      <td>0.0</td>\n",
       "      <td>Shortest_Lead_Time</td>\n",
       "      <td>## CVE-2018-11039 - Medium Severity Vulnerabil...</td>\n",
       "      <td>cve201811039 medium severity vulnerability det...</td>\n",
       "    </tr>\n",
       "  </tbody>\n",
       "</table>\n",
       "</div>"
      ],
      "text/plain": [
       "             id         type           created_at  \\\n",
       "0  2.490469e+09  IssuesEvent  2015-01-02 15:34:19   \n",
       "1  8.665837e+09  IssuesEvent  2018-11-29 01:08:20   \n",
       "2  8.665836e+09  IssuesEvent  2018-11-29 01:07:59   \n",
       "3  8.665832e+09  IssuesEvent  2018-11-29 01:06:53   \n",
       "4  8.665831e+09  IssuesEvent  2018-11-29 01:06:38   \n",
       "5  8.665824e+09  IssuesEvent  2018-11-29 01:04:46   \n",
       "6  8.665816e+09  IssuesEvent  2018-11-29 01:02:38   \n",
       "7  8.665837e+09  IssuesEvent  2018-11-29 01:08:24   \n",
       "8  8.665813e+09  IssuesEvent  2018-11-29 01:01:37   \n",
       "9  8.658768e+09  IssuesEvent  2018-11-28 02:34:23   \n",
       "\n",
       "                          repo  \\\n",
       "0  izuzero/xe-module-ajaxboard   \n",
       "1      ekirmayer/ExerciseFiles   \n",
       "2      ekirmayer/ExerciseFiles   \n",
       "3      ekirmayer/ExerciseFiles   \n",
       "4      ekirmayer/ExerciseFiles   \n",
       "5      ekirmayer/ExerciseFiles   \n",
       "6      ekirmayer/ExerciseFiles   \n",
       "7      ekirmayer/ExerciseFiles   \n",
       "8      ekirmayer/ExerciseFiles   \n",
       "9      ekirmayer/ExerciseFiles   \n",
       "\n",
       "                                            repo_url  action  \\\n",
       "0  https://api.github.com/repos/izuzero/xe-module...  opened   \n",
       "1  https://api.github.com/repos/ekirmayer/Exercis...  opened   \n",
       "2  https://api.github.com/repos/ekirmayer/Exercis...  opened   \n",
       "3  https://api.github.com/repos/ekirmayer/Exercis...  opened   \n",
       "4  https://api.github.com/repos/ekirmayer/Exercis...  opened   \n",
       "5  https://api.github.com/repos/ekirmayer/Exercis...  opened   \n",
       "6  https://api.github.com/repos/ekirmayer/Exercis...  opened   \n",
       "7  https://api.github.com/repos/ekirmayer/Exercis...  opened   \n",
       "8  https://api.github.com/repos/ekirmayer/Exercis...  opened   \n",
       "9  https://api.github.com/repos/ekirmayer/Exercis...  opened   \n",
       "\n",
       "                                               title  \\\n",
       "0                      SSE Listener session stack 제한   \n",
       "1  CVE-2018-3774 High Severity Vulnerability dete...   \n",
       "2  CVE-2016-1000340 High Severity Vulnerability d...   \n",
       "3  CVE-2018-11697 High Severity Vulnerability det...   \n",
       "4  CVE-2016-10531 Medium Severity Vulnerability d...   \n",
       "5  WS-2015-0024 High Severity Vulnerability detec...   \n",
       "6  CVE-2018-3774 High Severity Vulnerability dete...   \n",
       "7  CVE-2017-12597 High Severity Vulnerability det...   \n",
       "8  CVE-2016-1000340 High Severity Vulnerability d...   \n",
       "9  CVE-2018-11039 Medium Severity Vulnerability d...   \n",
       "\n",
       "                           labels  \\\n",
       "0  type/enhancement type/security   \n",
       "1          security vulnerability   \n",
       "2          security vulnerability   \n",
       "3          security vulnerability   \n",
       "4          security vulnerability   \n",
       "5          security vulnerability   \n",
       "6          security vulnerability   \n",
       "7          security vulnerability   \n",
       "8          security vulnerability   \n",
       "9          security vulnerability   \n",
       "\n",
       "                                                body  index  lead_time  \\\n",
       "0  SSE Listener session은 현재 만료일을 30분으로 지정해두고 있으나,...   True        0.0   \n",
       "1  ## CVE-2018-3774 - High Severity Vulnerability...   True        0.0   \n",
       "2  ## CVE-2016-1000340 - High Severity Vulnerabil...   True        0.0   \n",
       "3  ## CVE-2018-11697 - High Severity Vulnerabilit...   True        0.0   \n",
       "4  ## CVE-2016-10531 - Medium Severity Vulnerabil...   True        0.0   \n",
       "5  ## WS-2015-0024 - High Severity Vulnerability\\...   True        0.0   \n",
       "6  ## CVE-2018-3774 - High Severity Vulnerability...   True        0.0   \n",
       "7  ## CVE-2017-12597 - High Severity Vulnerabilit...   True        0.0   \n",
       "8  ## CVE-2016-1000340 - High Severity Vulnerabil...   True        0.0   \n",
       "9  ## CVE-2018-11039 - Medium Severity Vulnerabil...   True        0.0   \n",
       "\n",
       "             Category                                          body_text  \\\n",
       "0  Shortest_Lead_Time  SSE Listener session은 현재 만료일을 30분으로 지정해두고 있으나,...   \n",
       "1  Shortest_Lead_Time  ## CVE-2018-3774 - High Severity Vulnerability...   \n",
       "2  Shortest_Lead_Time  ## CVE-2016-1000340 - High Severity Vulnerabil...   \n",
       "3  Shortest_Lead_Time  ## CVE-2018-11697 - High Severity Vulnerabilit...   \n",
       "4  Shortest_Lead_Time  ## CVE-2016-10531 - Medium Severity Vulnerabil...   \n",
       "5  Shortest_Lead_Time  ## WS-2015-0024 - High Severity Vulnerability\\...   \n",
       "6  Shortest_Lead_Time  ## CVE-2018-3774 - High Severity Vulnerability...   \n",
       "7  Shortest_Lead_Time  ## CVE-2017-12597 - High Severity Vulnerabilit...   \n",
       "8  Shortest_Lead_Time  ## CVE-2016-1000340 - High Severity Vulnerabil...   \n",
       "9  Shortest_Lead_Time  ## CVE-2018-11039 - Medium Severity Vulnerabil...   \n",
       "\n",
       "                                                text  \n",
       "0  sse listener session은 현재 만료일을 30분으로 지정해두고 있으나 ...  \n",
       "1  cve20183774 high severity vulnerability detail...  \n",
       "2  cve20161000340 high severity vulnerability det...  \n",
       "3  cve201811697 high severity vulnerability detai...  \n",
       "4  cve201610531 medium severity vulnerability det...  \n",
       "5  ws20150024 high severity vulnerability details...  \n",
       "6  cve20183774 high severity vulnerability detail...  \n",
       "7  cve201712597 high severity vulnerability detai...  \n",
       "8  cve20161000340 high severity vulnerability det...  \n",
       "9  cve201811039 medium severity vulnerability det...  "
      ]
     },
     "execution_count": 94,
     "metadata": {},
     "output_type": "execute_result"
    }
   ],
   "source": [
    "sorted_records[:10]"
   ]
  },
  {
   "cell_type": "code",
   "execution_count": 95,
   "id": "fef2690a-0960-4e87-a0b7-3ba8d5e05905",
   "metadata": {
    "tags": []
   },
   "outputs": [],
   "source": [
    "\n",
    "sorted_records[\"body_text\"] = sorted_records['body'].astype(str)\n"
   ]
  },
  {
   "cell_type": "code",
   "execution_count": 96,
   "id": "5333f662-0a00-438f-82d9-6fc51a88abd8",
   "metadata": {
    "tags": []
   },
   "outputs": [],
   "source": [
    "def preprocess_text(text):\n",
    "    text = text.lower()  # Lowercase text\n",
    "    text = re.sub(f\"[{re.escape(punctuation)}]\", \"\", text)  # Remove punctuation\n",
    "    text = \" \".join(text.split())  # Remove extra spaces, tabs, and new lines\n",
    "    text = re.sub(r\"https?://\\S+\", \"\", text)\n",
    "    return text\n",
    "\n",
    "sorted_records[\"text\"] = sorted_records[\"body_text\"].map(preprocess_text)"
   ]
  },
  {
   "cell_type": "code",
   "execution_count": 97,
   "id": "bce7676b-f956-46c9-86a7-c422b6663c5f",
   "metadata": {
    "tags": []
   },
   "outputs": [],
   "source": [
    "clean_df = sorted_records[[\"title\" , \"text\", \"lead_time\",\"Category\"]]\n",
    "documents = clean_df.to_dict(orient='records')\n"
   ]
  },
  {
   "cell_type": "code",
   "execution_count": 98,
   "id": "febbe425-7cef-4f2d-8bca-fbcd62d84b98",
   "metadata": {
    "tags": []
   },
   "outputs": [],
   "source": [
    "for i in range(len(documents)):\n",
    "    documents[i]['id'] = i"
   ]
  },
  {
   "cell_type": "code",
   "execution_count": 100,
   "id": "f5070ded-153e-4e20-909b-516204db39d4",
   "metadata": {
    "tags": []
   },
   "outputs": [
    {
     "name": "stderr",
     "output_type": "stream",
     "text": [
      "\u001b[32m2024-01-07 19:34:16.775\u001b[0m | \u001b[1mINFO    \u001b[0m | \u001b[36mnomic.project\u001b[0m:\u001b[36m_create_project\u001b[0m:\u001b[36m790\u001b[0m - \u001b[1mCreating project `Security_data_lead_time_map` in organization `pundarika.click`\u001b[0m\n",
      "\u001b[32m2024-01-07 19:34:17.767\u001b[0m | \u001b[1mINFO    \u001b[0m | \u001b[36mnomic.atlas\u001b[0m:\u001b[36mmap_text\u001b[0m:\u001b[36m248\u001b[0m - \u001b[1mUploading text to Atlas.\u001b[0m\n",
      "\u001b[32m2024-01-07 19:34:17.808\u001b[0m | \u001b[33m\u001b[1mWARNING \u001b[0m | \u001b[36mnomic.project\u001b[0m:\u001b[36m_validate_and_correct_arrow_upload\u001b[0m:\u001b[36m261\u001b[0m - \u001b[33m\u001b[1mid_field is not a string. Converting to string from int32\u001b[0m\n",
      "3it [00:01,  1.66it/s]                                                          \n",
      "\u001b[32m2024-01-07 19:34:19.614\u001b[0m | \u001b[1mINFO    \u001b[0m | \u001b[36mnomic.project\u001b[0m:\u001b[36m_add_data\u001b[0m:\u001b[36m1422\u001b[0m - \u001b[1mUpload succeeded.\u001b[0m\n",
      "\u001b[32m2024-01-07 19:34:19.619\u001b[0m | \u001b[1mINFO    \u001b[0m | \u001b[36mnomic.atlas\u001b[0m:\u001b[36mmap_text\u001b[0m:\u001b[36m284\u001b[0m - \u001b[1mText upload succeeded.\u001b[0m\n",
      "\u001b[32m2024-01-07 19:34:21.136\u001b[0m | \u001b[1mINFO    \u001b[0m | \u001b[36mnomic.project\u001b[0m:\u001b[36mcreate_index\u001b[0m:\u001b[36m1132\u001b[0m - \u001b[1mCreated map `Security_data_lead_time_map` in project `Security_data_lead_time_map`: https://atlas.nomic.ai/map/f02e6512-24a6-4ba0-9985-09bc9ffe2da1/5456d2be-01a1-40c5-b1fa-b288e059bdd8\u001b[0m\n",
      "\u001b[32m2024-01-07 19:34:21.140\u001b[0m | \u001b[1mINFO    \u001b[0m | \u001b[36mnomic.atlas\u001b[0m:\u001b[36mmap_text\u001b[0m:\u001b[36m300\u001b[0m - \u001b[1mSecurity_data_lead_time_map: https://atlas.nomic.ai/map/f02e6512-24a6-4ba0-9985-09bc9ffe2da1/5456d2be-01a1-40c5-b1fa-b288e059bdd8\u001b[0m\n"
     ]
    }
   ],
   "source": [
    "project = atlas.map_text(data=documents,\n",
    "                         id_field='id',\n",
    "                         indexed_field='text',\n",
    "                         colorable_fields=['title','Category'],\n",
    "                         name='Security_data_lead_time_map', build_topic_model=True,\n",
    "                         description='Security_data_lead_time'\n",
    "                         )"
   ]
  },
  {
   "cell_type": "code",
   "execution_count": null,
   "id": "9c3da759-e3ab-4fe0-b5cd-c1bc16bdaeb3",
   "metadata": {},
   "outputs": [],
   "source": []
  }
 ],
 "metadata": {
  "kernelspec": {
   "display_name": "Python 3 (ipykernel)",
   "language": "python",
   "name": "python3"
  },
  "language_info": {
   "codemirror_mode": {
    "name": "ipython",
    "version": 3
   },
   "file_extension": ".py",
   "mimetype": "text/x-python",
   "name": "python",
   "nbconvert_exporter": "python",
   "pygments_lexer": "ipython3",
   "version": "3.10.13"
  }
 },
 "nbformat": 4,
 "nbformat_minor": 5
}
